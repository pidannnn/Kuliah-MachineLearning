{
 "cells": [
  {
   "cell_type": "code",
   "execution_count": 1,
   "id": "78d54eac-722a-4673-91e5-8e8b989dae6a",
   "metadata": {},
   "outputs": [],
   "source": [
    "import numpy as np\n",
    "import pandas as pd\n",
    "import matplotlib.pyplot as plt\n",
    "import seaborn as sns\n",
    "\n",
    "from sklearn.model_selection import ( train_test_split, cross_val_score)\n",
    "from sklearn.compose import ColumnTransformer\n",
    "from sklearn.preprocessing import OneHotEncoder, StandardScaler\n",
    "from sklearn.pipeline import Pipeline\n",
    "from sklearn.linear_model import LogisticRegression\n",
    "from sklearn.metrics import (\n",
    "    accuracy_score, precision_score, recall_score, f1_score, roc_auc_score,\n",
    "    confusion_matrix, classification_report, RocCurveDisplay, ConfusionMatrixDisplay\n",
    ")"
   ]
  },
  {
   "cell_type": "code",
   "execution_count": 2,
   "id": "5be4155e-407f-48ff-bacd-c5c73873b527",
   "metadata": {},
   "outputs": [
    {
     "data": {
      "text/html": [
       "<div>\n",
       "<style scoped>\n",
       "    .dataframe tbody tr th:only-of-type {\n",
       "        vertical-align: middle;\n",
       "    }\n",
       "\n",
       "    .dataframe tbody tr th {\n",
       "        vertical-align: top;\n",
       "    }\n",
       "\n",
       "    .dataframe thead th {\n",
       "        text-align: right;\n",
       "    }\n",
       "</style>\n",
       "<table border=\"1\" class=\"dataframe\">\n",
       "  <thead>\n",
       "    <tr style=\"text-align: right;\">\n",
       "      <th></th>\n",
       "      <th>ID</th>\n",
       "      <th>Usia</th>\n",
       "      <th>Status</th>\n",
       "      <th>Kelamin</th>\n",
       "      <th>Memiliki_Mobil</th>\n",
       "      <th>Penghasilan</th>\n",
       "      <th>Beli_Mobil</th>\n",
       "    </tr>\n",
       "  </thead>\n",
       "  <tbody>\n",
       "    <tr>\n",
       "      <th>0</th>\n",
       "      <td>1</td>\n",
       "      <td>32</td>\n",
       "      <td>1</td>\n",
       "      <td>0</td>\n",
       "      <td>0</td>\n",
       "      <td>240</td>\n",
       "      <td>1</td>\n",
       "    </tr>\n",
       "    <tr>\n",
       "      <th>1</th>\n",
       "      <td>2</td>\n",
       "      <td>49</td>\n",
       "      <td>2</td>\n",
       "      <td>1</td>\n",
       "      <td>1</td>\n",
       "      <td>100</td>\n",
       "      <td>0</td>\n",
       "    </tr>\n",
       "    <tr>\n",
       "      <th>2</th>\n",
       "      <td>3</td>\n",
       "      <td>52</td>\n",
       "      <td>1</td>\n",
       "      <td>0</td>\n",
       "      <td>2</td>\n",
       "      <td>250</td>\n",
       "      <td>1</td>\n",
       "    </tr>\n",
       "    <tr>\n",
       "      <th>3</th>\n",
       "      <td>4</td>\n",
       "      <td>26</td>\n",
       "      <td>2</td>\n",
       "      <td>1</td>\n",
       "      <td>1</td>\n",
       "      <td>130</td>\n",
       "      <td>0</td>\n",
       "    </tr>\n",
       "    <tr>\n",
       "      <th>4</th>\n",
       "      <td>5</td>\n",
       "      <td>45</td>\n",
       "      <td>3</td>\n",
       "      <td>0</td>\n",
       "      <td>2</td>\n",
       "      <td>237</td>\n",
       "      <td>1</td>\n",
       "    </tr>\n",
       "    <tr>\n",
       "      <th>...</th>\n",
       "      <td>...</td>\n",
       "      <td>...</td>\n",
       "      <td>...</td>\n",
       "      <td>...</td>\n",
       "      <td>...</td>\n",
       "      <td>...</td>\n",
       "      <td>...</td>\n",
       "    </tr>\n",
       "    <tr>\n",
       "      <th>995</th>\n",
       "      <td>996</td>\n",
       "      <td>51</td>\n",
       "      <td>0</td>\n",
       "      <td>1</td>\n",
       "      <td>2</td>\n",
       "      <td>293</td>\n",
       "      <td>1</td>\n",
       "    </tr>\n",
       "    <tr>\n",
       "      <th>996</th>\n",
       "      <td>997</td>\n",
       "      <td>61</td>\n",
       "      <td>1</td>\n",
       "      <td>0</td>\n",
       "      <td>2</td>\n",
       "      <td>275</td>\n",
       "      <td>1</td>\n",
       "    </tr>\n",
       "    <tr>\n",
       "      <th>997</th>\n",
       "      <td>998</td>\n",
       "      <td>45</td>\n",
       "      <td>1</td>\n",
       "      <td>0</td>\n",
       "      <td>0</td>\n",
       "      <td>406</td>\n",
       "      <td>1</td>\n",
       "    </tr>\n",
       "    <tr>\n",
       "      <th>998</th>\n",
       "      <td>999</td>\n",
       "      <td>48</td>\n",
       "      <td>0</td>\n",
       "      <td>1</td>\n",
       "      <td>2</td>\n",
       "      <td>432</td>\n",
       "      <td>1</td>\n",
       "    </tr>\n",
       "    <tr>\n",
       "      <th>999</th>\n",
       "      <td>1000</td>\n",
       "      <td>40</td>\n",
       "      <td>3</td>\n",
       "      <td>1</td>\n",
       "      <td>1</td>\n",
       "      <td>380</td>\n",
       "      <td>1</td>\n",
       "    </tr>\n",
       "  </tbody>\n",
       "</table>\n",
       "<p>1000 rows × 7 columns</p>\n",
       "</div>"
      ],
      "text/plain": [
       "       ID  Usia  Status  Kelamin  Memiliki_Mobil  Penghasilan  Beli_Mobil\n",
       "0       1    32       1        0               0          240           1\n",
       "1       2    49       2        1               1          100           0\n",
       "2       3    52       1        0               2          250           1\n",
       "3       4    26       2        1               1          130           0\n",
       "4       5    45       3        0               2          237           1\n",
       "..    ...   ...     ...      ...             ...          ...         ...\n",
       "995   996    51       0        1               2          293           1\n",
       "996   997    61       1        0               2          275           1\n",
       "997   998    45       1        0               0          406           1\n",
       "998   999    48       0        1               2          432           1\n",
       "999  1000    40       3        1               1          380           1\n",
       "\n",
       "[1000 rows x 7 columns]"
      ]
     },
     "execution_count": 2,
     "metadata": {},
     "output_type": "execute_result"
    }
   ],
   "source": [
    "df = pd.read_csv('../data/calonpembelimobil.csv')\n",
    "df"
   ]
  },
  {
   "cell_type": "code",
   "execution_count": 3,
   "id": "aa3051d9-d5ea-4ae2-8909-93d838271309",
   "metadata": {},
   "outputs": [
    {
     "name": "stdout",
     "output_type": "stream",
     "text": [
      "<class 'pandas.core.frame.DataFrame'>\n",
      "RangeIndex: 1000 entries, 0 to 999\n",
      "Data columns (total 7 columns):\n",
      " #   Column          Non-Null Count  Dtype\n",
      "---  ------          --------------  -----\n",
      " 0   ID              1000 non-null   int64\n",
      " 1   Usia            1000 non-null   int64\n",
      " 2   Status          1000 non-null   int64\n",
      " 3   Kelamin         1000 non-null   int64\n",
      " 4   Memiliki_Mobil  1000 non-null   int64\n",
      " 5   Penghasilan     1000 non-null   int64\n",
      " 6   Beli_Mobil      1000 non-null   int64\n",
      "dtypes: int64(7)\n",
      "memory usage: 54.8 KB\n"
     ]
    }
   ],
   "source": [
    "df.info()"
   ]
  },
  {
   "cell_type": "code",
   "execution_count": 4,
   "id": "c36573e2-fb28-4d1c-bb97-71ba61f8c291",
   "metadata": {},
   "outputs": [
    {
     "data": {
      "text/plain": [
       "ID                0\n",
       "Usia              0\n",
       "Status            0\n",
       "Kelamin           0\n",
       "Memiliki_Mobil    0\n",
       "Penghasilan       0\n",
       "Beli_Mobil        0\n",
       "dtype: int64"
      ]
     },
     "execution_count": 4,
     "metadata": {},
     "output_type": "execute_result"
    }
   ],
   "source": [
    "df.isnull().sum()"
   ]
  },
  {
   "cell_type": "code",
   "execution_count": 5,
   "id": "684241c2-9704-4dc4-ba0e-f54873981eac",
   "metadata": {},
   "outputs": [
    {
     "data": {
      "text/plain": [
       "np.int64(0)"
      ]
     },
     "execution_count": 5,
     "metadata": {},
     "output_type": "execute_result"
    }
   ],
   "source": [
    "df.duplicated().sum()"
   ]
  },
  {
   "cell_type": "code",
   "execution_count": 6,
   "id": "26748598-d290-49dd-9b57-af19a0311ec1",
   "metadata": {},
   "outputs": [
    {
     "data": {
      "text/html": [
       "<div>\n",
       "<style scoped>\n",
       "    .dataframe tbody tr th:only-of-type {\n",
       "        vertical-align: middle;\n",
       "    }\n",
       "\n",
       "    .dataframe tbody tr th {\n",
       "        vertical-align: top;\n",
       "    }\n",
       "\n",
       "    .dataframe thead th {\n",
       "        text-align: right;\n",
       "    }\n",
       "</style>\n",
       "<table border=\"1\" class=\"dataframe\">\n",
       "  <thead>\n",
       "    <tr style=\"text-align: right;\">\n",
       "      <th></th>\n",
       "      <th>ID</th>\n",
       "      <th>Usia</th>\n",
       "      <th>Status</th>\n",
       "      <th>Kelamin</th>\n",
       "      <th>Memiliki_Mobil</th>\n",
       "      <th>Penghasilan</th>\n",
       "      <th>Beli_Mobil</th>\n",
       "    </tr>\n",
       "  </thead>\n",
       "  <tbody>\n",
       "    <tr>\n",
       "      <th>ID</th>\n",
       "      <td>1.000000</td>\n",
       "      <td>0.149779</td>\n",
       "      <td>-0.006634</td>\n",
       "      <td>0.014646</td>\n",
       "      <td>0.068555</td>\n",
       "      <td>0.254177</td>\n",
       "      <td>0.168614</td>\n",
       "    </tr>\n",
       "    <tr>\n",
       "      <th>Usia</th>\n",
       "      <td>0.149779</td>\n",
       "      <td>1.000000</td>\n",
       "      <td>0.051476</td>\n",
       "      <td>0.019454</td>\n",
       "      <td>0.090926</td>\n",
       "      <td>0.125859</td>\n",
       "      <td>0.100127</td>\n",
       "    </tr>\n",
       "    <tr>\n",
       "      <th>Status</th>\n",
       "      <td>-0.006634</td>\n",
       "      <td>0.051476</td>\n",
       "      <td>1.000000</td>\n",
       "      <td>-0.008561</td>\n",
       "      <td>0.048302</td>\n",
       "      <td>0.071714</td>\n",
       "      <td>0.048584</td>\n",
       "    </tr>\n",
       "    <tr>\n",
       "      <th>Kelamin</th>\n",
       "      <td>0.014646</td>\n",
       "      <td>0.019454</td>\n",
       "      <td>-0.008561</td>\n",
       "      <td>1.000000</td>\n",
       "      <td>0.035199</td>\n",
       "      <td>-0.054211</td>\n",
       "      <td>-0.147301</td>\n",
       "    </tr>\n",
       "    <tr>\n",
       "      <th>Memiliki_Mobil</th>\n",
       "      <td>0.068555</td>\n",
       "      <td>0.090926</td>\n",
       "      <td>0.048302</td>\n",
       "      <td>0.035199</td>\n",
       "      <td>1.000000</td>\n",
       "      <td>0.137823</td>\n",
       "      <td>0.102005</td>\n",
       "    </tr>\n",
       "    <tr>\n",
       "      <th>Penghasilan</th>\n",
       "      <td>0.254177</td>\n",
       "      <td>0.125859</td>\n",
       "      <td>0.071714</td>\n",
       "      <td>-0.054211</td>\n",
       "      <td>0.137823</td>\n",
       "      <td>1.000000</td>\n",
       "      <td>0.763930</td>\n",
       "    </tr>\n",
       "    <tr>\n",
       "      <th>Beli_Mobil</th>\n",
       "      <td>0.168614</td>\n",
       "      <td>0.100127</td>\n",
       "      <td>0.048584</td>\n",
       "      <td>-0.147301</td>\n",
       "      <td>0.102005</td>\n",
       "      <td>0.763930</td>\n",
       "      <td>1.000000</td>\n",
       "    </tr>\n",
       "  </tbody>\n",
       "</table>\n",
       "</div>"
      ],
      "text/plain": [
       "                      ID      Usia    Status   Kelamin  Memiliki_Mobil  \\\n",
       "ID              1.000000  0.149779 -0.006634  0.014646        0.068555   \n",
       "Usia            0.149779  1.000000  0.051476  0.019454        0.090926   \n",
       "Status         -0.006634  0.051476  1.000000 -0.008561        0.048302   \n",
       "Kelamin         0.014646  0.019454 -0.008561  1.000000        0.035199   \n",
       "Memiliki_Mobil  0.068555  0.090926  0.048302  0.035199        1.000000   \n",
       "Penghasilan     0.254177  0.125859  0.071714 -0.054211        0.137823   \n",
       "Beli_Mobil      0.168614  0.100127  0.048584 -0.147301        0.102005   \n",
       "\n",
       "                Penghasilan  Beli_Mobil  \n",
       "ID                 0.254177    0.168614  \n",
       "Usia               0.125859    0.100127  \n",
       "Status             0.071714    0.048584  \n",
       "Kelamin           -0.054211   -0.147301  \n",
       "Memiliki_Mobil     0.137823    0.102005  \n",
       "Penghasilan        1.000000    0.763930  \n",
       "Beli_Mobil         0.763930    1.000000  "
      ]
     },
     "execution_count": 6,
     "metadata": {},
     "output_type": "execute_result"
    }
   ],
   "source": [
    "corr_matrix = df.corr(numeric_only = True)\n",
    "corr_matrix"
   ]
  },
  {
   "cell_type": "code",
   "execution_count": 7,
   "id": "b572a20b-4307-4423-be0f-72204da5dd46",
   "metadata": {},
   "outputs": [
    {
     "data": {
      "image/png": "[encoded data removed]",
      "text/plain": [
       "<Figure size 800x600 with 2 Axes>"
      ]
     },
     "metadata": {},
     "output_type": "display_data"
    }
   ],
   "source": [
    "plt.figure(figsize=(8, 6))\n",
    "sns.heatmap(corr_matrix, annot=True, cmap='coolwarm', fmt='.2f', linewidths=0.5)\n",
    "plt.title('Heatmap korelasi antar variabel numerik terhadap pembelian mobil', fontsize=12)\n",
    "plt.show()"
   ]
  },
  {
   "cell_type": "code",
   "execution_count": 8,
   "id": "bb2dec6a-94d2-49f4-bf46-8ca4af74d346",
   "metadata": {},
   "outputs": [
    {
     "name": "stdout",
     "output_type": "stream",
     "text": [
      "X shape : (1000, 5)\n",
      "y shape : (1000,)\n"
     ]
    }
   ],
   "source": [
    "# Pisahkan variabel fitur (X) dan target (y)\n",
    "X = df.drop(columns=[\"ID\", \"Beli_Mobil\"])\n",
    "y = df[\"Beli_Mobil\"]\n",
    "\n",
    "print('X shape :', X.shape)\n",
    "print('y shape :', y.shape)"
   ]
  },
  {
   "cell_type": "code",
   "execution_count": 9,
   "id": "a15edef0-8698-475d-9521-e76671841f7b",
   "metadata": {},
   "outputs": [
    {
     "name": "stdout",
     "output_type": "stream",
     "text": [
      "Data latih: (800, 5)\n",
      "Data uji: (200, 5)\n"
     ]
    }
   ],
   "source": [
    "# membagi data (train & test)\n",
    "X_train, X_test, y_train, y_test = train_test_split(\n",
    "    X, y,\n",
    "    test_size=0.2,\n",
    "    random_state=42,\n",
    "    stratify=y\n",
    ")\n",
    "\n",
    "print(\"Data latih:\", X_train.shape)\n",
    "print(\"Data uji:\", X_test.shape)"
   ]
  },
  {
   "cell_type": "code",
   "execution_count": 35,
   "id": "8fa2c87b-ce25-427b-a479-43782cd930f8",
   "metadata": {},
   "outputs": [
    {
     "name": "stdout",
     "output_type": "stream",
     "text": [
      "✅✅ Model Logistic Regression berhasil dilatih.\n"
     ]
    }
   ],
   "source": [
    "# fitur numerik dan biner\n",
    "feature_num = ['Usia', 'Status', 'Memiliki_Mobil', 'Penghasilan']\n",
    "feature_bin = ['Kelamin']\n",
    "\n",
    "# latih Model Logistic Regression\n",
    "# scale fitur numerik dan biner\n",
    "preprocess = ColumnTransformer(\n",
    "    transformers=[\n",
    "        ('num', StandardScaler(), feature_num),\n",
    "        ('bin', 'passthrough', feature_bin)\n",
    "    ],\n",
    "    remainder = 'drop'\n",
    ")\n",
    "\n",
    "model = LogisticRegression(\n",
    "    max_iter=200,\n",
    "    solver='lbfgs',\n",
    "    class_weight='balanced',\n",
    "    random_state=42\n",
    ")\n",
    "\n",
    "clf = Pipeline([\n",
    "    ('preprocess', preprocess),\n",
    "    ('model', model)\n",
    "])\n",
    "\n",
    "# Latih model\n",
    "clf.fit(X_train, y_train)\n",
    "print(\"✅✅ Model Logistic Regression berhasil dilatih.\")"
   ]
  },
  {
   "cell_type": "code",
   "execution_count": 18,
   "id": "da99eaa4-8978-41a3-90b4-5ec3e7f01bc5",
   "metadata": {},
   "outputs": [
    {
     "name": "stdout",
     "output_type": "stream",
     "text": [
      "Akurasi : 0.9300\n",
      "Precision 0.9829\n",
      "Recall: 0.9055\n",
      "F1-Score: 0.9426\n",
      "ROC-AUC : 0.9769\n"
     ]
    }
   ],
   "source": [
    "# Prediksi & probabilitas\n",
    "y_pred = clf.predict(X_test)\n",
    "y_prob = clf.predict_proba(X_test)[:, 1]\n",
    "\n",
    "# Hitung metrik\n",
    "print(f\"Akurasi : {accuracy_score(y_test, y_pred):.4f}\")\n",
    "print(f\"Precision {precision_score(y_test, y_pred, zero_division=0):.4f}\")\n",
    "print(f\"Recall: {recall_score(y_test, y_pred, zero_division=0):.4f}\")\n",
    "print(f\"F1-Score: {f1_score(y_test, y_pred, zero_division=0):.4f}\")\n",
    "print(f\"ROC-AUC : {roc_auc_score(y_test, y_prob):.4f}\")"
   ]
  },
  {
   "cell_type": "code",
   "execution_count": 36,
   "id": "f41fd757-f4ea-449a-a159-92e1fdec0660",
   "metadata": {},
   "outputs": [
    {
     "data": {
      "text/plain": [
       "<Figure size 400x300 with 0 Axes>"
      ]
     },
     "metadata": {},
     "output_type": "display_data"
    },
    {
     "data": {
      "image/png": "[encoded data removed]",
      "text/plain": [
       "<Figure size 640x480 with 2 Axes>"
      ]
     },
     "metadata": {},
     "output_type": "display_data"
    },
    {
     "data": {
      "image/png": "[encoded data removed]",
      "text/plain": [
       "<Figure size 640x480 with 1 Axes>"
      ]
     },
     "metadata": {},
     "output_type": "display_data"
    }
   ],
   "source": [
    "# Confusion Matrix\n",
    "plt.figure(figsize=(4, 3))\n",
    "ConfusionMatrixDisplay (confusion_matrix(y_test, y_pred),\n",
    "    display_labels=['Tidak Membeli', 'Membeli Mobil']\n",
    "    ).plot(values_format='d')\n",
    "plt.title(\"Confusion Matrix\")\n",
    "plt.show()\n",
    "\n",
    "#ROC Curve\n",
    "RocCurveDisplay.from_estimator (clf, X_test, y_test)\n",
    "plt.title(\"ROC Curve Logistic Regression\")\n",
    "plt.show()"
   ]
  },
  {
   "cell_type": "code",
   "execution_count": 26,
   "id": "bde3dec0-27ea-4888-a907-cc559394df33",
   "metadata": {},
   "outputs": [
    {
     "name": "stdout",
     "output_type": "stream",
     "text": [
      "                   precision    recall  f1-score   support\n",
      "\n",
      "Tidak Membeli (0)       0.86      0.97      0.91        73\n",
      "      Membeli (1)       0.98      0.91      0.94       127\n",
      "\n",
      "         accuracy                           0.93       200\n",
      "        macro avg       0.92      0.94      0.93       200\n",
      "     weighted avg       0.94      0.93      0.93       200\n",
      "\n"
     ]
    }
   ],
   "source": [
    "print(classification_report(y_test, y_pred, target_names=['Tidak Membeli (0)', 'Membeli (1)']))"
   ]
  },
  {
   "cell_type": "code",
   "execution_count": 27,
   "id": "16aabc68-8d26-4300-be3b-b77d4e49c21d",
   "metadata": {},
   "outputs": [
    {
     "name": "stdout",
     "output_type": "stream",
     "text": [
      "Skor tiap fold: [0.775 0.915 0.955 0.945 0.94 ]\n",
      "Rata-rata akurasi: 0.9059999999999999\n",
      "Standar deviasi: 0.06681317235396023\n"
     ]
    }
   ],
   "source": [
    "# Lakukan cross validation (cv=5 berarti 5-fold)\n",
    "scores = cross_val_score(clf, X, y, cv = 5 )\n",
    "\n",
    "# Tampilkan hasil\n",
    "print(\"Skor tiap fold:\", scores)\n",
    "print(\"Rata-rata akurasi:\", np.mean (scores))\n",
    "print(\"Standar deviasi:\", np.std (scores))"
   ]
  },
  {
   "cell_type": "code",
   "execution_count": 28,
   "id": "1d304bcf-9666-4b59-8447-c9ab8efdcb53",
   "metadata": {},
   "outputs": [
    {
     "data": {
      "text/html": [
       "<div>\n",
       "<style scoped>\n",
       "    .dataframe tbody tr th:only-of-type {\n",
       "        vertical-align: middle;\n",
       "    }\n",
       "\n",
       "    .dataframe tbody tr th {\n",
       "        vertical-align: top;\n",
       "    }\n",
       "\n",
       "    .dataframe thead th {\n",
       "        text-align: right;\n",
       "    }\n",
       "</style>\n",
       "<table border=\"1\" class=\"dataframe\">\n",
       "  <thead>\n",
       "    <tr style=\"text-align: right;\">\n",
       "      <th></th>\n",
       "      <th>Fitur</th>\n",
       "      <th>Koefisien (log-odds)</th>\n",
       "      <th>Odds Ratio (e^coef)</th>\n",
       "    </tr>\n",
       "  </thead>\n",
       "  <tbody>\n",
       "    <tr>\n",
       "      <th>3</th>\n",
       "      <td>Penghasilan</td>\n",
       "      <td>4.553524</td>\n",
       "      <td>94.966518</td>\n",
       "    </tr>\n",
       "    <tr>\n",
       "      <th>2</th>\n",
       "      <td>Memiliki_Mobil</td>\n",
       "      <td>0.078348</td>\n",
       "      <td>1.081499</td>\n",
       "    </tr>\n",
       "    <tr>\n",
       "      <th>0</th>\n",
       "      <td>Usia</td>\n",
       "      <td>-0.047578</td>\n",
       "      <td>0.953536</td>\n",
       "    </tr>\n",
       "    <tr>\n",
       "      <th>1</th>\n",
       "      <td>Status</td>\n",
       "      <td>-0.133740</td>\n",
       "      <td>0.874818</td>\n",
       "    </tr>\n",
       "    <tr>\n",
       "      <th>4</th>\n",
       "      <td>Kelamin</td>\n",
       "      <td>-1.129122</td>\n",
       "      <td>0.323317</td>\n",
       "    </tr>\n",
       "  </tbody>\n",
       "</table>\n",
       "</div>"
      ],
      "text/plain": [
       "            Fitur  Koefisien (log-odds)  Odds Ratio (e^coef)\n",
       "3     Penghasilan              4.553524            94.966518\n",
       "2  Memiliki_Mobil              0.078348             1.081499\n",
       "0            Usia             -0.047578             0.953536\n",
       "1          Status             -0.133740             0.874818\n",
       "4         Kelamin             -1.129122             0.323317"
      ]
     },
     "metadata": {},
     "output_type": "display_data"
    }
   ],
   "source": [
    "#Ambil nama fitur & koefisien\n",
    "feat_names = feature_num + feature_bin\n",
    "coefs = clf.named_steps['model'].coef_[0]\n",
    "odds = np.exp(coefs)\n",
    "\n",
    "coef_df = pd.DataFrame({\n",
    "    'Fitur': feat_names,\n",
    "    'Koefisien (log-odds)': coefs,\n",
    "    'Odds Ratio (e^coef)': odds\n",
    "}).sort_values('Odds Ratio (e^coef)', ascending=False)\n",
    "\n",
    "display(coef_df)"
   ]
  },
  {
   "cell_type": "code",
   "execution_count": 34,
   "id": "ffc65abc-c706-4743-9676-b5d7814477ca",
   "metadata": {},
   "outputs": [
    {
     "data": {
      "text/html": [
       "<div>\n",
       "<style scoped>\n",
       "    .dataframe tbody tr th:only-of-type {\n",
       "        vertical-align: middle;\n",
       "    }\n",
       "\n",
       "    .dataframe tbody tr th {\n",
       "        vertical-align: top;\n",
       "    }\n",
       "\n",
       "    .dataframe thead th {\n",
       "        text-align: right;\n",
       "    }\n",
       "</style>\n",
       "<table border=\"1\" class=\"dataframe\">\n",
       "  <thead>\n",
       "    <tr style=\"text-align: right;\">\n",
       "      <th></th>\n",
       "      <th>Usia</th>\n",
       "      <th>Status</th>\n",
       "      <th>Kelamin</th>\n",
       "      <th>Memiliki_Mobil</th>\n",
       "      <th>Penghasilan</th>\n",
       "      <th>Prob_Membeli_Mobil</th>\n",
       "      <th>Pred (0=Tidak, 1 = Ya)</th>\n",
       "    </tr>\n",
       "  </thead>\n",
       "  <tbody>\n",
       "    <tr>\n",
       "      <th>0</th>\n",
       "      <td>26</td>\n",
       "      <td>0</td>\n",
       "      <td>0</td>\n",
       "      <td>0</td>\n",
       "      <td>250</td>\n",
       "      <td>0.832962</td>\n",
       "      <td>1</td>\n",
       "    </tr>\n",
       "    <tr>\n",
       "      <th>1</th>\n",
       "      <td>45</td>\n",
       "      <td>3</td>\n",
       "      <td>1</td>\n",
       "      <td>2</td>\n",
       "      <td>292</td>\n",
       "      <td>0.904557</td>\n",
       "      <td>1</td>\n",
       "    </tr>\n",
       "  </tbody>\n",
       "</table>\n",
       "</div>"
      ],
      "text/plain": [
       "   Usia  Status  Kelamin  Memiliki_Mobil  Penghasilan  Prob_Membeli_Mobil  \\\n",
       "0    26       0        0               0          250            0.832962   \n",
       "1    45       3        1               2          292            0.904557   \n",
       "\n",
       "   Pred (0=Tidak, 1 = Ya)  \n",
       "0                       1  \n",
       "1                       1  "
      ]
     },
     "metadata": {},
     "output_type": "display_data"
    }
   ],
   "source": [
    "# Contoh 2 anak\n",
    "data_baru = pd.DataFrame({\n",
    "    'Usia': [26, 45],\n",
    "    'Status': [0, 3],\n",
    "    'Kelamin': [0, 1],\n",
    "    'Memiliki_Mobil': [0, 2],\n",
    "    'Penghasilan': [250, 292]\n",
    "})\n",
    "\n",
    "pred = clf.predict(data_baru)\n",
    "prob = clf.predict_proba(data_baru) [:,1]\n",
    "\n",
    "hasil = data_baru.copy()\n",
    "hasil['Prob_Membeli_Mobil'] = prob\n",
    "hasil['Pred (0=Tidak, 1 = Ya)'] = pred\n",
    "display(hasil)"
   ]
  },
  {
   "cell_type": "code",
   "execution_count": null,
   "id": "c4b1cc09-4ce1-4391-ad26-0c58b773775c",
   "metadata": {},
   "outputs": [],
   "source": []
  }
 ],
 "metadata": {
  "kernelspec": {
   "display_name": "Python 3.13 (pandas)",
   "language": "python",
   "name": "py313"
  },
  "language_info": {
   "codemirror_mode": {
    "name": "ipython",
    "version": 3
   },
   "file_extension": ".py",
   "mimetype": "text/x-python",
   "name": "python",
   "nbconvert_exporter": "python",
   "pygments_lexer": "ipython3",
   "version": "3.13.7"
  }
 },
 "nbformat": 4,
 "nbformat_minor": 5
}
